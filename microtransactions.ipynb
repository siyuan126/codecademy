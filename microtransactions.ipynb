{
 "cells": [
  {
   "cell_type": "markdown",
   "metadata": {},
   "source": [
    "# Project: Hypothesis Testing for Microtransactions\n",
    "Brian is a Product Manager at FarmBurg, a company that makes a farming simulation social network game.  In the FarmBurg game, you can plow, plant, and harvest different crops.\n",
    "\n",
    "Today, you will be acting as Brian's data analyst for an A/B Test that he has been conducting."
   ]
  },
  {
   "cell_type": "markdown",
   "metadata": {},
   "source": [
    "## Part 1: Testing for Significant Difference"
   ]
  },
  {
   "cell_type": "markdown",
   "metadata": {},
   "source": [
    "Start by importing the following modules that you'll need for this project:\n",
    "- `pandas` as `pd`"
   ]
  },
  {
   "cell_type": "code",
   "execution_count": 1,
   "metadata": {},
   "outputs": [],
   "source": [
    "import pandas as pd\n",
    "import numpy as np"
   ]
  },
  {
   "cell_type": "markdown",
   "metadata": {},
   "source": [
    "Brian tells you that he ran an A/B test with three different groups: A, B, and C.  You're kind of busy today, so you don't ask too many questions about the differences between A, B, and C.  Maybe they were shown three different versions of an ad.  Who cares?\n",
    "\n",
    "(HINT: you will care later)\n",
    "\n",
    "Brian gives you a CSV of results called `clicks.csv`.  It has the following columns:\n",
    "- `user_id`: a unique id for each visitor to the FarmBerg site\n",
    "- `ab_test_group`: either `A`, `B`, or `C` depending on which group the visitor was assigned to\n",
    "- `click_day`: only filled in *if* the user clicked on a link to purchase\n",
    "\n",
    "Load `clicks.csv` into the variable `df`."
   ]
  },
  {
   "cell_type": "code",
   "execution_count": 2,
   "metadata": {},
   "outputs": [],
   "source": [
    "df = pd.read_csv('clicks.csv')"
   ]
  },
  {
   "cell_type": "markdown",
   "metadata": {},
   "source": [
    "Define a new column called `is_purchase` which is `Purchase` if `click_day` is not `None` and `No Purchase` if `click_day` is `None`.  This will tell us if each visitor clicked on the Purchase link."
   ]
  },
  {
   "cell_type": "code",
   "execution_count": 3,
   "metadata": {},
   "outputs": [],
   "source": [
    "df['is_purchase']= np.where(df['click_day'].notnull(), 'Purchase','No Purchase')"
   ]
  },
  {
   "cell_type": "markdown",
   "metadata": {
    "collapsed": true
   },
   "source": [
    "We want to count the number of users who made a purchase from each group.  Use `groupby` to count the number of `Purchase` and `No Purchase` from each `group`.  Save your answer to the variable `purchase_counts`.\n",
    "\n",
    "**Hint**: Group by `group` and `is_purchase` and the function `count` on the column `user_id`."
   ]
  },
  {
   "cell_type": "code",
   "execution_count": 4,
   "metadata": {},
   "outputs": [],
   "source": [
    "purchase_counts = df.groupby(['group','is_purchase'])['user_id'].count()"
   ]
  },
  {
   "cell_type": "markdown",
   "metadata": {
    "collapsed": true
   },
   "source": [
    "This data is *categorical* and there are *more than 2* conditions, so we'll want to use a chi-squared test to see if there is a significant difference between the three conditions.\n",
    "\n",
    "Start by filling in the contingency table below with the correct values:\n",
    "```py\n",
    "contingency = [[groupA_purchases, groupA_not_purchases],\n",
    "               [groupB_purchases, groupB_not_purchases],\n",
    "               [groupC_purchases, groupC_not_purchases]]\n",
    "```"
   ]
  },
  {
   "cell_type": "code",
   "execution_count": 5,
   "metadata": {},
   "outputs": [],
   "source": [
    "contingency = [[purchase_counts[1],purchase_counts[0]],\n",
    "               [purchase_counts[3],purchase_counts[2]],\n",
    "               [purchase_counts[5],purchase_counts[4]]]"
   ]
  },
  {
   "cell_type": "markdown",
   "metadata": {},
   "source": [
    "Now import the function `chi2_contingency` from `scipy.stats` and perform the chi-squared test.\n",
    "\n",
    "Recall that the *p-value* is the second output of `chi2_contingency`."
   ]
  },
  {
   "cell_type": "code",
   "execution_count": 6,
   "metadata": {},
   "outputs": [],
   "source": [
    "from scipy.stats import chi2_contingency "
   ]
  },
  {
   "cell_type": "code",
   "execution_count": 7,
   "metadata": {},
   "outputs": [
    {
     "data": {
      "text/plain": [
       "2.4126213546684264e-35"
      ]
     },
     "execution_count": 7,
     "metadata": {},
     "output_type": "execute_result"
    }
   ],
   "source": [
    "chi2, p, dof, ex = chi2_contingency(contingency, correction=False)\n",
    "p"
   ]
  },
  {
   "cell_type": "markdown",
   "metadata": {},
   "source": [
    "Great! It looks like a significantly greater portion of users from Group A made a purchase."
   ]
  },
  {
   "cell_type": "markdown",
   "metadata": {},
   "source": [
    "## Part 2: Testing for Exceeding a Goal\n",
    "\n",
    "Your day is a little less busy than you expected, so you decide to ask Brian about his test.\n",
    "\n",
    "**You**: Hey Brian! What was that test you were running anyway?\n",
    "\n",
    "**Brian**: It was awesome! We are trying to get users to purchase a small FarmBurg upgrade package.  It's called a microtransaction.  We're not sure how much to charge for it, so we tested three different price points: \\$0.99, \\$1.99, and \\$4.99.  It looks like significantly more people bought the upgrade package for \\$0.99, so I guess that's what we'll charge.\n",
    "\n",
    "**You**: Oh no! I should have asked you this before we did that chi-squared test.  I don't think that this was the right test at all.  It's true that more people wanted purchase the upgrade at \\$0.99; you probably expected that.  What we really want to know is if each price point allows us to make enough money that we can exceed some target goal.  Brian, how much do you think it cost to build this feature?\n",
    "\n",
    "**Brian**: Hmm.  I guess that we need to generate a minimum of $1000 per week in order to justify this project.\n",
    "\n",
    "**You**: We have some work to do!"
   ]
  },
  {
   "cell_type": "markdown",
   "metadata": {},
   "source": [
    "How many visitors came to the site this week?\n",
    "\n",
    "Hint: Look at the length of `df`."
   ]
  },
  {
   "cell_type": "code",
   "execution_count": 8,
   "metadata": {},
   "outputs": [
    {
     "data": {
      "text/plain": [
       "4998"
      ]
     },
     "execution_count": 8,
     "metadata": {},
     "output_type": "execute_result"
    }
   ],
   "source": [
    "cnt_visitor = len(df)\n",
    "cnt_visitor"
   ]
  },
  {
   "cell_type": "markdown",
   "metadata": {},
   "source": [
    "Let's assume that this is how many visitors we generally get each week.  Given that, calculate the percent of visitors who would need to purchase the upgrade package at each price point (\\$0.99, \\$1.99, \\$4.99) in order to generate \\$1000 per week."
   ]
  },
  {
   "cell_type": "code",
   "execution_count": 9,
   "metadata": {},
   "outputs": [],
   "source": [
    "# Calculate the number of people who would need to purchase a $0.99 upgrade in order to generate $1000.\n",
    "num_A = 1000/0.99\n",
    "# Then divide by the number of people who visit the site each week.\n",
    "pct_A = num_A/cnt_visitor"
   ]
  },
  {
   "cell_type": "code",
   "execution_count": 10,
   "metadata": {},
   "outputs": [],
   "source": [
    "# Calculate the number of people who would need to purchase a $1.99 upgrade in order to generate $1000.\n",
    "num_B = 1000/1.99\n",
    "# Then divide by the number of people who visit the site each week.\n",
    "pct_B = num_B/cnt_visitor"
   ]
  },
  {
   "cell_type": "code",
   "execution_count": 11,
   "metadata": {},
   "outputs": [],
   "source": [
    "# Calculate the number of people who would need to purchase a $4.99 upgrade in order to generate $1000.\n",
    "num_C = 1000/4.99\n",
    "# Then divide by the number of people who visit the site each week.\n",
    "pct_C = num_C/cnt_visitor"
   ]
  },
  {
   "cell_type": "markdown",
   "metadata": {},
   "source": [
    "Note that you need a smaller percentage of purchases for higher price points.\n",
    "\n",
    "Now, for each group, perform a binomial test using `binom_test` from `scipy.stats`.\n",
    "- `x` will be the number of purchases for that group\n",
    "- `n` will be the total number of visitors assigned to that group\n",
    "- `p` will be the target percent of purchases for that price point (calculated above)\n",
    "\n",
    "Recall that:\n",
    "- Group `A` is the \\$0.99 price point\n",
    "- Group `B` is the \\$1.99 price point\n",
    "- Group `C` is the \\$4.99 price point"
   ]
  },
  {
   "cell_type": "code",
   "execution_count": 12,
   "metadata": {},
   "outputs": [],
   "source": [
    "# import the binomial test from scipy.stats here\n",
    "from scipy.stats import binom_test"
   ]
  },
  {
   "cell_type": "code",
   "execution_count": 16,
   "metadata": {},
   "outputs": [
    {
     "data": {
      "text/plain": [
       "0.2111287299402726"
      ]
     },
     "execution_count": 16,
     "metadata": {},
     "output_type": "execute_result"
    }
   ],
   "source": [
    "# Test group A here\n",
    "binom_test(purchase_counts[1], sum(contingency[0]),pct_A)"
   ]
  },
  {
   "cell_type": "code",
   "execution_count": 17,
   "metadata": {},
   "outputs": [
    {
     "data": {
      "text/plain": [
       "0.20660209246555486"
      ]
     },
     "execution_count": 17,
     "metadata": {},
     "output_type": "execute_result"
    }
   ],
   "source": [
    "# Test group B here\n",
    "binom_test(purchase_counts[3],sum(contingency[1]),pct_B)"
   ]
  },
  {
   "cell_type": "code",
   "execution_count": 18,
   "metadata": {},
   "outputs": [
    {
     "data": {
      "text/plain": [
       "0.045623672477172125"
      ]
     },
     "execution_count": 18,
     "metadata": {},
     "output_type": "execute_result"
    }
   ],
   "source": [
    "# Test group C here\n",
    "binom_test(purchase_counts[5],sum(contingency[2]), pct_C)"
   ]
  },
  {
   "cell_type": "markdown",
   "metadata": {},
   "source": [
    "If any of the groups passed the binomial test with $p < 0.05$, then we can be confident that enough people will buy the upgrade package at that price point to justify the feature.\n",
    "\n",
    "Which price point should Brian go with?  Did this surprise you?"
   ]
  },
  {
   "cell_type": "markdown",
   "metadata": {},
   "source": [
    "### Brian should go with 4.99. It makes sense because even it is a higher price point, we need less people (4% of total visitors ) to buy the package to justify the feature. And for group C, the actual purchase rate is 4.5% (groupC_purchase/groupC_total). It is significantly higher than 4%.  For price point 0.99, we need 20.2% of total visitors to purchase, while groupA's purchase rate is only 18.97%. For price point 1.99, we need 10.1% of total visitors to purchase, even groupB's purchase rate is 10.98%, it is not significatly higher than 10.1%. "
   ]
  }
 ],
 "metadata": {
  "kernelspec": {
   "display_name": "Python 3",
   "language": "python",
   "name": "python3"
  },
  "language_info": {
   "codemirror_mode": {
    "name": "ipython",
    "version": 3
   },
   "file_extension": ".py",
   "mimetype": "text/x-python",
   "name": "python",
   "nbconvert_exporter": "python",
   "pygments_lexer": "ipython3",
   "version": "3.7.0"
  }
 },
 "nbformat": 4,
 "nbformat_minor": 2
}
